{
 "cells": [
  {
   "cell_type": "code",
   "execution_count": null,
   "metadata": {},
   "outputs": [
    {
     "name": "stdout",
     "output_type": "stream",
     "text": [
      "Nissan, 12345\n"
     ]
    }
   ],
   "source": [
    "\"\"\"\n",
    "Avoid __init__ boilerplate by using dataclasses\n",
    "\n",
    "Demonstrates how to leverage dataclass\n",
    "https://docs.python.org/3/library/dataclasses.html\n",
    "\"\"\"\n",
    "from dataclasses import dataclass\n",
    "\n",
    "@dataclass\n",
    "class Car:\n",
    "  \"\"\" Defines a car \"\"\"\n",
    "  model: str\n",
    "  cost: int\n",
    "\n",
    "  def get(self) -> str:\n",
    "    \"\"\"\n",
    "    Retreives the car details\n",
    "    \"\"\"\n",
    "    return f\"{self.model}, {self.cost}\"\n",
    "\n",
    "nissan = Car(model=\"Nissan\", cost=12345)\n",
    "print(nissan.get())"
   ]
  },
  {
   "cell_type": "code",
   "execution_count": null,
   "metadata": {},
   "outputs": [],
   "source": [
    "\"\"\"\n",
    "Single-dispatch generic functions\n",
    "\n",
    "Transform a function into a single-dispatch generic function.\n",
    "\n",
    "https://peps.python.org/pep-0443/\n",
    "\n",
    "Resource: https://rednafi.com/python/singledispatch/\n",
    "\"\"\"\n",
    "\n",
    "from functools import singledispatch\n",
    "\n",
    "@singledispatch\n",
    "def process(num=None):\n",
    "    raise NotImplementedError(\"Implement process function\")\n",
    "\n",
    "@process.register(int)\n",
    "def sub_process(num):\n",
    "    return f\"Integer {num} has been processed successfully!\"\n",
    "\n",
    "@process.register(float)\n",
    "def sub_process(num):\n",
    "    return f\"Float {num} has been processed successfully!\"\n",
    "\n",
    "print(process(12.0))\n",
    "print(process(3))"
   ]
  }
 ],
 "metadata": {
  "kernelspec": {
   "display_name": "Python 3",
   "language": "python",
   "name": "python3"
  },
  "language_info": {
   "codemirror_mode": {
    "name": "ipython",
    "version": 3
   },
   "file_extension": ".py",
   "mimetype": "text/x-python",
   "name": "python",
   "nbconvert_exporter": "python",
   "pygments_lexer": "ipython3",
   "version": "3.9.6"
  }
 },
 "nbformat": 4,
 "nbformat_minor": 2
}
