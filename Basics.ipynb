{
 "cells": [
  {
   "cell_type": "markdown",
   "id": "6c1cd0c8-49a3-485a-98b5-56354f285a5e",
   "metadata": {},
   "source": [
    "### What Is the __Init__.Py File?\n",
    "> The __init__.py file is a Python file that is executed when a package is imported. __init__.py is a special file used in Python to define packages and initialize their namespaces. It can contain an initialization code that runs when the package is imported. Without this file, Python won't recognize a directory as a package.\n",
    "> https://www.geeksforgeeks.org/what-is-__init__-py-file-in-python/"
   ]
  },
  {
   "cell_type": "markdown",
   "id": "dbfd7097-2701-403d-a0b0-d80a95ee8970",
   "metadata": {},
   "source": [
    "### What is __name__ ?\n",
    "> __name__ is a built-in variable which evaluates to the name of the current module\n",
    "> https://www.geeksforgeeks.org/__name__-a-special-variable-in-python/"
   ]
  },
  {
   "cell_type": "code",
   "execution_count": null,
   "id": "88236e01-1653-4b5b-ad0d-5c085c0e4c8d",
   "metadata": {},
   "outputs": [],
   "source": []
  },
  {
   "cell_type": "code",
   "execution_count": null,
   "id": "e55cbb32-dc6e-4d19-a54c-3b56be03d880",
   "metadata": {},
   "outputs": [],
   "source": []
  }
 ],
 "metadata": {
  "kernelspec": {
   "display_name": "Python 3 (ipykernel)",
   "language": "python",
   "name": "python3"
  },
  "language_info": {
   "codemirror_mode": {
    "name": "ipython",
    "version": 3
   },
   "file_extension": ".py",
   "mimetype": "text/x-python",
   "name": "python",
   "nbconvert_exporter": "python",
   "pygments_lexer": "ipython3",
   "version": "3.13.2"
  }
 },
 "nbformat": 4,
 "nbformat_minor": 5
}
