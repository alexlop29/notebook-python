{
 "cells": [
  {
   "cell_type": "code",
   "execution_count": null,
   "metadata": {},
   "outputs": [
    {
     "name": "stdout",
     "output_type": "stream",
     "text": [
      "[1, 4, 9]\n"
     ]
    }
   ],
   "source": [
    "from typing import List\n",
    "\n",
    "def get_list_squares(list: List[int])->List[int]:\n",
    "    \"\"\"\n",
    "    Provided a list of integers, returns the a list of each of their squared values\n",
    "\n",
    "    Args:\n",
    "        list (List[int]): The provided list of integers\n",
    "\n",
    "    Returns:\n",
    "        List[int]: List of squared values\n",
    "    \"\"\"\n",
    "    return [x**2 for x in list]\n",
    "\n",
    "print(get_list_squares([1,2,3]))"
   ]
  },
  {
   "cell_type": "code",
   "execution_count": 2,
   "metadata": {},
   "outputs": [
    {
     "name": "stdout",
     "output_type": "stream",
     "text": [
      "[0, 2, 4, 6, 8]\n"
     ]
    }
   ],
   "source": [
    "from typing import List\n",
    "\n",
    "def get_even_nums_in_range(start: int, end: int)->List[int]:\n",
    "    \"\"\"\n",
    "    Returns a list of even numbers from the start of the range to the end\n",
    "\n",
    "    Args:\n",
    "        start: defines the starting num for the range\n",
    "        end: defines the ending num for the range\n",
    "\n",
    "    Returns:\n",
    "        List[int]: a list of even numbs from start to end\n",
    "    \"\"\"\n",
    "    return [x for x in range(start, end) if x % 2 == 0]\n",
    "\n",
    "print(get_even_nums_in_range(0, 10))"
   ]
  },
  {
   "cell_type": "code",
   "execution_count": 3,
   "metadata": {},
   "outputs": [
    {
     "name": "stdout",
     "output_type": "stream",
     "text": [
      "[3, 6, 9]\n"
     ]
    }
   ],
   "source": [
    "from typing import List\n",
    "\n",
    "def get_nums_in_range_divisble_by_x(start: int, end: int, divisor: int)->List[int]:\n",
    "    \"\"\"\n",
    "    Returns a list of numbers from the start of the range to the end divisble by the provided value\n",
    "\n",
    "    Args:\n",
    "        start: defines the starting num for the range\n",
    "        end: defines the ending num for the range\n",
    "        divisor: defines the num to \n",
    "\n",
    "    Returns:\n",
    "        List[int]: a list of even numbs from start to end\n",
    "    \"\"\"\n",
    "    return [x for x in range(start, end) if x % divisor == 0]\n",
    "\n",
    "print(get_nums_in_range_divisble_by_x(1, 10, 3))"
   ]
  },
  {
   "cell_type": "code",
   "execution_count": 5,
   "metadata": {},
   "outputs": [
    {
     "name": "stdout",
     "output_type": "stream",
     "text": [
      "{1: 1, 2: 4, 3: 9, 4: 16, 5: 25, 6: 36, 7: 49, 8: 64, 9: 81}\n"
     ]
    }
   ],
   "source": [
    "from typing import Dict\n",
    "\n",
    "def get_dict_of_squares_in_range(start: int, end: int)->Dict[int, int]:\n",
    "    \"\"\"\n",
    "    Returns a dictionary with key-value pairs of a number and its' square\n",
    "\n",
    "    Args:\n",
    "        start: defines the starting num for the range\n",
    "        end: defines the ending num for the range\n",
    "\n",
    "    Return:\n",
    "        Dict[int:int]: a dict of keys and their squares as values\n",
    "    \"\"\"\n",
    "    return {x: x**2 for x in range(start, end)}\n",
    "\n",
    "print(get_dict_of_squares_in_range(1,10))"
   ]
  }
 ],
 "metadata": {
  "kernelspec": {
   "display_name": "Python 3",
   "language": "python",
   "name": "python3"
  },
  "language_info": {
   "codemirror_mode": {
    "name": "ipython",
    "version": 3
   },
   "file_extension": ".py",
   "mimetype": "text/x-python",
   "name": "python",
   "nbconvert_exporter": "python",
   "pygments_lexer": "ipython3",
   "version": "3.9.6"
  }
 },
 "nbformat": 4,
 "nbformat_minor": 2
}
