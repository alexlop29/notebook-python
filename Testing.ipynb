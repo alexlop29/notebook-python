{
 "cells": [
  {
   "cell_type": "markdown",
   "metadata": {},
   "source": [
    "> The canonical way to write tests in Python is to use the unittest built-in module.\n",
    "Effective Python: 125 Specific Ways to Write Better Python, 3rd Edition\n",
    "\n",
    "> Tests are organized into TestCase subclasses. Each test case is a method that begins with the word test.\n",
    "Effective Python: 125 Specific Ways to Write Better Python, 3rd Edition\n",
    "\n",
    "> The TestCase class provides helper methods for making assertions in your tests, such as assertEqual for verifying equality, assertTrue for verifying Boolean expressions, assertAlmostEqual for when precision is a concern\n",
    "Effective Python: 125 Specific Ways to Write Better Python, 3rd Edition\n",
    "\n",
    "> There’s also an assertRaises helper method for verifying exceptions, which can be used as a context manager in with statements. This appears similar to a try/except statement and makes it abundantly clear where the exception is expected to be raised:"
   ]
  },
  {
   "cell_type": "code",
   "execution_count": null,
   "metadata": {},
   "outputs": [
    {
     "name": "stderr",
     "output_type": "stream",
     "text": [
      "E..\n",
      "======================================================================\n",
      "ERROR: test_non_integer (__main__.PrimeCheckerTestCase)\n",
      "----------------------------------------------------------------------\n",
      "Traceback (most recent call last):\n",
      "  File \"/var/folders/n1/b4cmt1ds0fj3ywmh0_k68fxm0000gp/T/ipykernel_11036/1270339385.py\", line 31, in test_non_integer\n",
      "    prime_number_checker(\"abs\")\n",
      "  File \"/var/folders/n1/b4cmt1ds0fj3ywmh0_k68fxm0000gp/T/ipykernel_11036/1270339385.py\", line 17, in prime_number_checker\n",
      "    for i in range(2, num):\n",
      "TypeError: 'str' object cannot be interpreted as an integer\n",
      "\n",
      "----------------------------------------------------------------------\n",
      "Ran 3 tests in 0.002s\n",
      "\n",
      "FAILED (errors=1)\n"
     ]
    }
   ],
   "source": [
    "\"\"\"\n",
    "Unit Test for Prime Number Checker\n",
    "Write a Python unit test program to check if a given number is prime or not\n",
    "\"\"\"\n",
    "from unittest import TestCase, main\n",
    "\n",
    "def prime_number_checker(num: int)-> bool:\n",
    "    \"\"\"\n",
    "    Check is a given number is a prime number\n",
    "\n",
    "    Args:\n",
    "        num (int): The number to check\n",
    "\n",
    "    Returns:\n",
    "        bool: True if the number is prime, False otherwise\n",
    "    \"\"\"\n",
    "    if num < 2:\n",
    "        return False\n",
    "    for i in range(2, num):\n",
    "        if num % i == 0:\n",
    "            return False\n",
    "    return True\n",
    "\n",
    "class PrimeCheckerTestCase(TestCase):\n",
    "    def test_prime_number(self):\n",
    "        self.assertEqual(prime_number_checker(5), True)\n",
    "\n",
    "    def test_non_prime_number(self):\n",
    "        self.assertEqual(prime_number_checker(15), False)\n",
    "\n",
    "    def test_non_integer(self):\n",
    "        with self.assertRaises(TypeError):\n",
    "            prime_number_checker(\"abs\")\n",
    "\n",
    "\n",
    "if __name__ == \"__main__\":\n",
    "    main(argv=['first-arg-is-ignored'], exit=False) # Jupyter-specific syntax\n",
    "    "
   ]
  }
 ],
 "metadata": {
  "kernelspec": {
   "display_name": "Python 3",
   "language": "python",
   "name": "python3"
  },
  "language_info": {
   "codemirror_mode": {
    "name": "ipython",
    "version": 3
   },
   "file_extension": ".py",
   "mimetype": "text/x-python",
   "name": "python",
   "nbconvert_exporter": "python",
   "pygments_lexer": "ipython3",
   "version": "3.9.6"
  }
 },
 "nbformat": 4,
 "nbformat_minor": 2
}
